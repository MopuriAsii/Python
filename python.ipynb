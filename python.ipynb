{
 "cells": [
  {
   "cell_type": "code",
   "execution_count": 6,
   "metadata": {},
   "outputs": [
    {
     "name": "stdout",
     "output_type": "stream",
     "text": [
      "8\n",
      "10.5\n",
      "hii\n",
      "140708572895896\n",
      "2738602896400\n",
      "2738606456768\n",
      "140708572895896\n",
      "2738606456768\n"
     ]
    }
   ],
   "source": [
    "a=8;\n",
    "b=10.5;\n",
    "c='hii';\n",
    "d=8;\n",
    "e='hii';\n",
    "print(a);\n",
    "print(b);\n",
    "print(c);\n",
    "print(id(a));\n",
    "print(id(b));\n",
    "print(id(c));\n",
    "print(id(d));\n",
    "print(id(e));"
   ]
  },
  {
   "cell_type": "code",
   "execution_count": 18,
   "metadata": {},
   "outputs": [
    {
     "name": "stdout",
     "output_type": "stream",
     "text": [
      "[10, 20, 30.5, 'hii']\n",
      "30.5\n",
      "[10, 20, 30.5, 500, 'hii']\n",
      "[10, 20, 30.5, 500]\n",
      "[10, 20, 30.5]\n"
     ]
    },
    {
     "data": {
      "text/plain": [
       "[10, 100]"
      ]
     },
     "execution_count": 18,
     "metadata": {},
     "output_type": "execute_result"
    }
   ],
   "source": [
    "a=[10,20,30.5,'hii']\n",
    "print(a);\n",
    "print(a[2]);\n",
    "a.insert(3,500);\n",
    "print(a)\n",
    "a.remove('hii');\n",
    "print(a);\n",
    "a.pop()\n",
    "print(a)\n",
    "a.pop(1);\n",
    "a\n",
    "a[1]=100;\n",
    "a"
   ]
  },
  {
   "cell_type": "markdown",
   "metadata": {},
   "source": [
    "# class2:"
   ]
  },
  {
   "cell_type": "code",
   "execution_count": null,
   "metadata": {},
   "outputs": [],
   "source": []
  }
 ],
 "metadata": {
  "kernelspec": {
   "display_name": "Python 3",
   "language": "python",
   "name": "python3"
  },
  "language_info": {
   "codemirror_mode": {
    "name": "ipython",
    "version": 3
   },
   "file_extension": ".py",
   "mimetype": "text/x-python",
   "name": "python",
   "nbconvert_exporter": "python",
   "pygments_lexer": "ipython3",
   "version": "3.12.3"
  }
 },
 "nbformat": 4,
 "nbformat_minor": 2
}
